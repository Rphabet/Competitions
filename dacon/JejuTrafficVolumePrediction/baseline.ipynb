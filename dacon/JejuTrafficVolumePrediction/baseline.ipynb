{
 "cells": [
  {
   "cell_type": "markdown",
   "metadata": {
    "collapsed": false
   },
   "source": [
    "[대회명]\n",
    "제주 테크노파크 제주도 도로 교통량 예측 AI 경진대회\n",
    "\n",
    "\n",
    "[배경]\n",
    "제주도내 주민등록인구는 2022년 기준 약 68만명으로, 연평균 1.3%정도 매년 증가하고 있습니다.\n",
    "\n",
    "또한 외국인과 관광객까지 고려하면 전체 상주인구는 90만명을 넘을 것으로 추정되며,\n",
    "\n",
    "제주도민 증가와 외국인의 증가로 현재 제주도의 교통체증이 심각한 문제로 떠오르고 있습니다.\n",
    "\n",
    "\n",
    "\n",
    "[주제]\n",
    "제주도 도로 교통량 예측 AI 알고리즘 개발\n",
    "\n",
    "\n",
    "\n",
    "[설명]\n",
    "제주도의 교통 정보로부터 도로 교통량 회귀 예측"
   ]
  },
  {
   "cell_type": "code",
   "execution_count": 35,
   "metadata": {
    "collapsed": true,
    "trusted": false
   },
   "outputs": [],
   "source": [
    "import numpy as np\n",
    "import pandas as pd\n",
    "import os\n",
    "import gc # garbage collector\n",
    "\n",
    "import matplotlib.pyplot as plt\n",
    "import seaborn as sns"
   ]
  },
  {
   "cell_type": "markdown",
   "metadata": {
    "collapsed": false
   },
   "source": [
    "`csv to parquet` 변환을 진행하면 메모리에 효율적인 데이터 유형을 사용하여 용량을 크게 줄이고 빠른 작업 가능"
   ]
  },
  {
   "cell_type": "code",
   "execution_count": 36,
   "metadata": {
    "collapsed": false,
    "trusted": false
   },
   "outputs": [],
   "source": [
    "DATA_DIR = './data/open/'\n",
    "DATA_INFO = 'data_info.csv'\n",
    "TRAIN_CSV = 'train.csv'\n",
    "TEST_CSV = 'test.csv'"
   ]
  },
  {
   "cell_type": "code",
   "execution_count": 37,
   "metadata": {
    "collapsed": false,
    "trusted": false
   },
   "outputs": [
    {
     "data": {
      "text/plain": "                      변수명           변수 설명\n0                      id             아이디\n1               base_date              날짜\n2             day_of_week              요일\n3               base_hour             시간대\n4             road_in_use          도로사용여부\n5              lane_count             차로수\n6             road_rating            도로등급\n7            multi_linked         중용구간 여부\n8            connect_code          연결로 코드\n9     maximum_speed_limit          최고속도제한\n10      weight_restricted          통과제한하중\n11      height_restricted          통과제한높이\n12              road_type            도로유형\n13         start_latitude        시작지점의 위도\n14        start_longitude        시작지점의 경도\n15  start_turn_restricted  시작 지점의 회전제한 유무\n16           end_latitude        도착지점의 위도\n17          end_longitude        도착지점의 경도\n18    end_turn_restricted   도작지점의 회전제한 유무\n19              road_name             도로명\n20        start_node_name           시작지점명\n21          end_node_name           도착지점명\n22     vehicle_restricted          통과제한차량\n23                 target        평균속도(km)",
      "text/html": "<div>\n<style scoped>\n    .dataframe tbody tr th:only-of-type {\n        vertical-align: middle;\n    }\n\n    .dataframe tbody tr th {\n        vertical-align: top;\n    }\n\n    .dataframe thead th {\n        text-align: right;\n    }\n</style>\n<table border=\"1\" class=\"dataframe\">\n  <thead>\n    <tr style=\"text-align: right;\">\n      <th></th>\n      <th>변수명</th>\n      <th>변수 설명</th>\n    </tr>\n  </thead>\n  <tbody>\n    <tr>\n      <th>0</th>\n      <td>id</td>\n      <td>아이디</td>\n    </tr>\n    <tr>\n      <th>1</th>\n      <td>base_date</td>\n      <td>날짜</td>\n    </tr>\n    <tr>\n      <th>2</th>\n      <td>day_of_week</td>\n      <td>요일</td>\n    </tr>\n    <tr>\n      <th>3</th>\n      <td>base_hour</td>\n      <td>시간대</td>\n    </tr>\n    <tr>\n      <th>4</th>\n      <td>road_in_use</td>\n      <td>도로사용여부</td>\n    </tr>\n    <tr>\n      <th>5</th>\n      <td>lane_count</td>\n      <td>차로수</td>\n    </tr>\n    <tr>\n      <th>6</th>\n      <td>road_rating</td>\n      <td>도로등급</td>\n    </tr>\n    <tr>\n      <th>7</th>\n      <td>multi_linked</td>\n      <td>중용구간 여부</td>\n    </tr>\n    <tr>\n      <th>8</th>\n      <td>connect_code</td>\n      <td>연결로 코드</td>\n    </tr>\n    <tr>\n      <th>9</th>\n      <td>maximum_speed_limit</td>\n      <td>최고속도제한</td>\n    </tr>\n    <tr>\n      <th>10</th>\n      <td>weight_restricted</td>\n      <td>통과제한하중</td>\n    </tr>\n    <tr>\n      <th>11</th>\n      <td>height_restricted</td>\n      <td>통과제한높이</td>\n    </tr>\n    <tr>\n      <th>12</th>\n      <td>road_type</td>\n      <td>도로유형</td>\n    </tr>\n    <tr>\n      <th>13</th>\n      <td>start_latitude</td>\n      <td>시작지점의 위도</td>\n    </tr>\n    <tr>\n      <th>14</th>\n      <td>start_longitude</td>\n      <td>시작지점의 경도</td>\n    </tr>\n    <tr>\n      <th>15</th>\n      <td>start_turn_restricted</td>\n      <td>시작 지점의 회전제한 유무</td>\n    </tr>\n    <tr>\n      <th>16</th>\n      <td>end_latitude</td>\n      <td>도착지점의 위도</td>\n    </tr>\n    <tr>\n      <th>17</th>\n      <td>end_longitude</td>\n      <td>도착지점의 경도</td>\n    </tr>\n    <tr>\n      <th>18</th>\n      <td>end_turn_restricted</td>\n      <td>도작지점의 회전제한 유무</td>\n    </tr>\n    <tr>\n      <th>19</th>\n      <td>road_name</td>\n      <td>도로명</td>\n    </tr>\n    <tr>\n      <th>20</th>\n      <td>start_node_name</td>\n      <td>시작지점명</td>\n    </tr>\n    <tr>\n      <th>21</th>\n      <td>end_node_name</td>\n      <td>도착지점명</td>\n    </tr>\n    <tr>\n      <th>22</th>\n      <td>vehicle_restricted</td>\n      <td>통과제한차량</td>\n    </tr>\n    <tr>\n      <th>23</th>\n      <td>target</td>\n      <td>평균속도(km)</td>\n    </tr>\n  </tbody>\n</table>\n</div>"
     },
     "execution_count": 37,
     "metadata": {},
     "output_type": "execute_result"
    }
   ],
   "source": [
    "pd.read_csv(os.path.join(DATA_DIR, DATA_INFO), encoding='utf-8')"
   ]
  },
  {
   "cell_type": "code",
   "execution_count": 38,
   "metadata": {
    "collapsed": false,
    "trusted": false
   },
   "outputs": [
    {
     "data": {
      "text/plain": "<pandas.io.parsers.readers.TextFileReader at 0x2d5b7ba90>"
     },
     "execution_count": 38,
     "metadata": {},
     "output_type": "execute_result"
    }
   ],
   "source": [
    "train_chunk = pd.read_csv(os.path.join(DATA_DIR, TRAIN_CSV), iterator=True, chunksize=1000)\n",
    "train_chunk"
   ]
  },
  {
   "cell_type": "code",
   "execution_count": 39,
   "metadata": {
    "collapsed": false,
    "trusted": false
   },
   "outputs": [
    {
     "data": {
      "text/plain": "4702"
     },
     "execution_count": 39,
     "metadata": {},
     "output_type": "execute_result"
    }
   ],
   "source": [
    "train_chunk = list(train_chunk)\n",
    "len(train_chunk)"
   ]
  },
  {
   "cell_type": "code",
   "execution_count": 40,
   "metadata": {
    "collapsed": false,
    "trusted": false
   },
   "outputs": [
    {
     "data": {
      "text/plain": "                    id  base_date day_of_week  base_hour  lane_count  \\\n0        TRAIN_0000000   20220623           목         17           1   \n1        TRAIN_0000001   20220728           목         21           2   \n2        TRAIN_0000002   20211010           일          7           2   \n3        TRAIN_0000003   20220311           금         13           2   \n4        TRAIN_0000004   20211005           화          8           2   \n...                ...        ...         ...        ...         ...   \n4701212  TRAIN_4701212   20211104           목         16           1   \n4701213  TRAIN_4701213   20220331           목          2           2   \n4701214  TRAIN_4701214   20220613           월         22           2   \n4701215  TRAIN_4701215   20211020           수          2           2   \n4701216  TRAIN_4701216   20211019           화          6           2   \n\n         road_rating  road_name  multi_linked  connect_code  \\\n0                106  지방도1112호선             0             0   \n1                103   일반국도11호선             0             0   \n2                103   일반국도16호선             0             0   \n3                107        태평로             0             0   \n4                103   일반국도12호선             0             0   \n...              ...        ...           ...           ...   \n4701212          107          -             0             0   \n4701213          107          -             0             0   \n4701214          103   일반국도12호선             0             0   \n4701215          103   일반국도95호선             0             0   \n4701216          107        경찰로             0             0   \n\n         maximum_speed_limit  ...  road_type  start_node_name  start_latitude  \\\n0                       60.0  ...          3            제3교래교       33.427747   \n1                       60.0  ...          0            광양사거리       33.500730   \n2                       80.0  ...          0             창고천교       33.279145   \n3                       50.0  ...          0            남양리조트       33.246081   \n4                       80.0  ...          0             애월샷시       33.462214   \n...                      ...  ...        ...              ...             ...   \n4701212                 50.0  ...          0            대림사거리       33.422145   \n4701213                 80.0  ...          3              광삼교       33.472505   \n4701214                 60.0  ...          0            고성교차로       33.447183   \n4701215                 80.0  ...          0            제6광령교       33.443596   \n4701216                 60.0  ...          0           서귀포경찰서       33.256785   \n\n         start_longitude start_turn_restricted  end_node_name  end_latitude  \\\n0             126.662612                    없음          제3교래교     33.427749   \n1             126.529107                    있음         KAL사거리     33.504811   \n2             126.368598                    없음           상창육교     33.280072   \n3             126.567204                    없음           서현주택     33.245565   \n4             126.326551                    없음           애월입구     33.462677   \n...                  ...                   ...            ...           ...   \n4701212       126.278125                    없음           금덕해운     33.420955   \n4701213       126.424368                    없음            광삼교     33.472525   \n4701214       126.912579                    없음          성산교차로     33.444121   \n4701215       126.431817                    없음         관광대학입구     33.444996   \n4701216       126.508940                    없음           시민공원     33.257130   \n\n        end_longitude end_turn_restricted  target  \n0          126.662335                  없음    52.0  \n1          126.526240                  없음    30.0  \n2          126.362147                  없음    61.0  \n3          126.566228                  없음    20.0  \n4          126.330152                  없음    38.0  \n...               ...                 ...     ...  \n4701212    126.273750                  없음    20.0  \n4701213    126.424890                  없음    65.0  \n4701214    126.912948                  없음    30.0  \n4701215    126.433332                  없음    73.0  \n4701216    126.510364                  없음    35.0  \n\n[4701217 rows x 23 columns]",
      "text/html": "<div>\n<style scoped>\n    .dataframe tbody tr th:only-of-type {\n        vertical-align: middle;\n    }\n\n    .dataframe tbody tr th {\n        vertical-align: top;\n    }\n\n    .dataframe thead th {\n        text-align: right;\n    }\n</style>\n<table border=\"1\" class=\"dataframe\">\n  <thead>\n    <tr style=\"text-align: right;\">\n      <th></th>\n      <th>id</th>\n      <th>base_date</th>\n      <th>day_of_week</th>\n      <th>base_hour</th>\n      <th>lane_count</th>\n      <th>road_rating</th>\n      <th>road_name</th>\n      <th>multi_linked</th>\n      <th>connect_code</th>\n      <th>maximum_speed_limit</th>\n      <th>...</th>\n      <th>road_type</th>\n      <th>start_node_name</th>\n      <th>start_latitude</th>\n      <th>start_longitude</th>\n      <th>start_turn_restricted</th>\n      <th>end_node_name</th>\n      <th>end_latitude</th>\n      <th>end_longitude</th>\n      <th>end_turn_restricted</th>\n      <th>target</th>\n    </tr>\n  </thead>\n  <tbody>\n    <tr>\n      <th>0</th>\n      <td>TRAIN_0000000</td>\n      <td>20220623</td>\n      <td>목</td>\n      <td>17</td>\n      <td>1</td>\n      <td>106</td>\n      <td>지방도1112호선</td>\n      <td>0</td>\n      <td>0</td>\n      <td>60.0</td>\n      <td>...</td>\n      <td>3</td>\n      <td>제3교래교</td>\n      <td>33.427747</td>\n      <td>126.662612</td>\n      <td>없음</td>\n      <td>제3교래교</td>\n      <td>33.427749</td>\n      <td>126.662335</td>\n      <td>없음</td>\n      <td>52.0</td>\n    </tr>\n    <tr>\n      <th>1</th>\n      <td>TRAIN_0000001</td>\n      <td>20220728</td>\n      <td>목</td>\n      <td>21</td>\n      <td>2</td>\n      <td>103</td>\n      <td>일반국도11호선</td>\n      <td>0</td>\n      <td>0</td>\n      <td>60.0</td>\n      <td>...</td>\n      <td>0</td>\n      <td>광양사거리</td>\n      <td>33.500730</td>\n      <td>126.529107</td>\n      <td>있음</td>\n      <td>KAL사거리</td>\n      <td>33.504811</td>\n      <td>126.526240</td>\n      <td>없음</td>\n      <td>30.0</td>\n    </tr>\n    <tr>\n      <th>2</th>\n      <td>TRAIN_0000002</td>\n      <td>20211010</td>\n      <td>일</td>\n      <td>7</td>\n      <td>2</td>\n      <td>103</td>\n      <td>일반국도16호선</td>\n      <td>0</td>\n      <td>0</td>\n      <td>80.0</td>\n      <td>...</td>\n      <td>0</td>\n      <td>창고천교</td>\n      <td>33.279145</td>\n      <td>126.368598</td>\n      <td>없음</td>\n      <td>상창육교</td>\n      <td>33.280072</td>\n      <td>126.362147</td>\n      <td>없음</td>\n      <td>61.0</td>\n    </tr>\n    <tr>\n      <th>3</th>\n      <td>TRAIN_0000003</td>\n      <td>20220311</td>\n      <td>금</td>\n      <td>13</td>\n      <td>2</td>\n      <td>107</td>\n      <td>태평로</td>\n      <td>0</td>\n      <td>0</td>\n      <td>50.0</td>\n      <td>...</td>\n      <td>0</td>\n      <td>남양리조트</td>\n      <td>33.246081</td>\n      <td>126.567204</td>\n      <td>없음</td>\n      <td>서현주택</td>\n      <td>33.245565</td>\n      <td>126.566228</td>\n      <td>없음</td>\n      <td>20.0</td>\n    </tr>\n    <tr>\n      <th>4</th>\n      <td>TRAIN_0000004</td>\n      <td>20211005</td>\n      <td>화</td>\n      <td>8</td>\n      <td>2</td>\n      <td>103</td>\n      <td>일반국도12호선</td>\n      <td>0</td>\n      <td>0</td>\n      <td>80.0</td>\n      <td>...</td>\n      <td>0</td>\n      <td>애월샷시</td>\n      <td>33.462214</td>\n      <td>126.326551</td>\n      <td>없음</td>\n      <td>애월입구</td>\n      <td>33.462677</td>\n      <td>126.330152</td>\n      <td>없음</td>\n      <td>38.0</td>\n    </tr>\n    <tr>\n      <th>...</th>\n      <td>...</td>\n      <td>...</td>\n      <td>...</td>\n      <td>...</td>\n      <td>...</td>\n      <td>...</td>\n      <td>...</td>\n      <td>...</td>\n      <td>...</td>\n      <td>...</td>\n      <td>...</td>\n      <td>...</td>\n      <td>...</td>\n      <td>...</td>\n      <td>...</td>\n      <td>...</td>\n      <td>...</td>\n      <td>...</td>\n      <td>...</td>\n      <td>...</td>\n      <td>...</td>\n    </tr>\n    <tr>\n      <th>4701212</th>\n      <td>TRAIN_4701212</td>\n      <td>20211104</td>\n      <td>목</td>\n      <td>16</td>\n      <td>1</td>\n      <td>107</td>\n      <td>-</td>\n      <td>0</td>\n      <td>0</td>\n      <td>50.0</td>\n      <td>...</td>\n      <td>0</td>\n      <td>대림사거리</td>\n      <td>33.422145</td>\n      <td>126.278125</td>\n      <td>없음</td>\n      <td>금덕해운</td>\n      <td>33.420955</td>\n      <td>126.273750</td>\n      <td>없음</td>\n      <td>20.0</td>\n    </tr>\n    <tr>\n      <th>4701213</th>\n      <td>TRAIN_4701213</td>\n      <td>20220331</td>\n      <td>목</td>\n      <td>2</td>\n      <td>2</td>\n      <td>107</td>\n      <td>-</td>\n      <td>0</td>\n      <td>0</td>\n      <td>80.0</td>\n      <td>...</td>\n      <td>3</td>\n      <td>광삼교</td>\n      <td>33.472505</td>\n      <td>126.424368</td>\n      <td>없음</td>\n      <td>광삼교</td>\n      <td>33.472525</td>\n      <td>126.424890</td>\n      <td>없음</td>\n      <td>65.0</td>\n    </tr>\n    <tr>\n      <th>4701214</th>\n      <td>TRAIN_4701214</td>\n      <td>20220613</td>\n      <td>월</td>\n      <td>22</td>\n      <td>2</td>\n      <td>103</td>\n      <td>일반국도12호선</td>\n      <td>0</td>\n      <td>0</td>\n      <td>60.0</td>\n      <td>...</td>\n      <td>0</td>\n      <td>고성교차로</td>\n      <td>33.447183</td>\n      <td>126.912579</td>\n      <td>없음</td>\n      <td>성산교차로</td>\n      <td>33.444121</td>\n      <td>126.912948</td>\n      <td>없음</td>\n      <td>30.0</td>\n    </tr>\n    <tr>\n      <th>4701215</th>\n      <td>TRAIN_4701215</td>\n      <td>20211020</td>\n      <td>수</td>\n      <td>2</td>\n      <td>2</td>\n      <td>103</td>\n      <td>일반국도95호선</td>\n      <td>0</td>\n      <td>0</td>\n      <td>80.0</td>\n      <td>...</td>\n      <td>0</td>\n      <td>제6광령교</td>\n      <td>33.443596</td>\n      <td>126.431817</td>\n      <td>없음</td>\n      <td>관광대학입구</td>\n      <td>33.444996</td>\n      <td>126.433332</td>\n      <td>없음</td>\n      <td>73.0</td>\n    </tr>\n    <tr>\n      <th>4701216</th>\n      <td>TRAIN_4701216</td>\n      <td>20211019</td>\n      <td>화</td>\n      <td>6</td>\n      <td>2</td>\n      <td>107</td>\n      <td>경찰로</td>\n      <td>0</td>\n      <td>0</td>\n      <td>60.0</td>\n      <td>...</td>\n      <td>0</td>\n      <td>서귀포경찰서</td>\n      <td>33.256785</td>\n      <td>126.508940</td>\n      <td>없음</td>\n      <td>시민공원</td>\n      <td>33.257130</td>\n      <td>126.510364</td>\n      <td>없음</td>\n      <td>35.0</td>\n    </tr>\n  </tbody>\n</table>\n<p>4701217 rows × 23 columns</p>\n</div>"
     },
     "execution_count": 40,
     "metadata": {},
     "output_type": "execute_result"
    }
   ],
   "source": [
    "train_df = pd.concat(train_chunk)\n",
    "train_df"
   ]
  },
  {
   "cell_type": "markdown",
   "metadata": {
    "collapsed": false
   },
   "source": [
    "4701217개의 데이터이어야함"
   ]
  },
  {
   "cell_type": "code",
   "execution_count": 41,
   "metadata": {
    "collapsed": false,
    "trusted": false
   },
   "outputs": [
    {
     "data": {
      "text/plain": "0"
     },
     "execution_count": 41,
     "metadata": {},
     "output_type": "execute_result"
    }
   ],
   "source": [
    "4701217 - len(train_df)"
   ]
  },
  {
   "cell_type": "markdown",
   "metadata": {
    "collapsed": false
   },
   "source": [
    "메모리 효율을 위해 `parquet` 형식으로 바꿔주자"
   ]
  },
  {
   "cell_type": "code",
   "execution_count": 42,
   "metadata": {
    "collapsed": false,
    "trusted": false
   },
   "outputs": [],
   "source": [
    "def csv_to_parquet(csv_path, save_name):\n",
    "    chunk = pd.read_csv(csv_path, iterator=True, chunksize=1000)\n",
    "    chunk = list(chunk)\n",
    "    print(len(chunk))\n",
    "    df = pd.concat(chunk)\n",
    "    print(len(df))\n",
    "    df.to_parquet('./data/open/{}.parquet'.format(save_name), engine='fastparquet')\n",
    "    print('converting process complete')\n",
    "    del df\n",
    "    gc.collect() # 자동 메모리 관리용\n",
    "    print(save_name, 'Done')"
   ]
  },
  {
   "cell_type": "code",
   "execution_count": 43,
   "metadata": {
    "collapsed": false,
    "trusted": false
   },
   "outputs": [
    {
     "name": "stdout",
     "output_type": "stream",
     "text": [
      "4702\n",
      "4701217\n",
      "converting process complete\n",
      "train Done\n",
      "292\n",
      "291241\n",
      "converting process complete\n",
      "test Done\n"
     ]
    }
   ],
   "source": [
    "csv_to_parquet(os.path.join(DATA_DIR, TRAIN_CSV), 'train')\n",
    "csv_to_parquet(os.path.join(DATA_DIR, TEST_CSV), 'test')"
   ]
  },
  {
   "cell_type": "markdown",
   "metadata": {
    "collapsed": false
   },
   "source": [
    "# 데이터 로딩"
   ]
  },
  {
   "cell_type": "code",
   "execution_count": 44,
   "metadata": {
    "collapsed": false,
    "trusted": false
   },
   "outputs": [],
   "source": [
    "train = pd.read_parquet('./data/open/train.parquet', engine='fastparquet')"
   ]
  },
  {
   "cell_type": "code",
   "execution_count": 45,
   "metadata": {
    "collapsed": false,
    "trusted": false
   },
   "outputs": [
    {
     "data": {
      "text/plain": "                    id  base_date day_of_week  base_hour  lane_count  \\\n0        TRAIN_0000000   20220623           목         17           1   \n1        TRAIN_0000001   20220728           목         21           2   \n2        TRAIN_0000002   20211010           일          7           2   \n3        TRAIN_0000003   20220311           금         13           2   \n4        TRAIN_0000004   20211005           화          8           2   \n...                ...        ...         ...        ...         ...   \n4701212  TRAIN_4701212   20211104           목         16           1   \n4701213  TRAIN_4701213   20220331           목          2           2   \n4701214  TRAIN_4701214   20220613           월         22           2   \n4701215  TRAIN_4701215   20211020           수          2           2   \n4701216  TRAIN_4701216   20211019           화          6           2   \n\n         road_rating  road_name  multi_linked  connect_code  \\\n0                106  지방도1112호선             0             0   \n1                103   일반국도11호선             0             0   \n2                103   일반국도16호선             0             0   \n3                107        태평로             0             0   \n4                103   일반국도12호선             0             0   \n...              ...        ...           ...           ...   \n4701212          107          -             0             0   \n4701213          107          -             0             0   \n4701214          103   일반국도12호선             0             0   \n4701215          103   일반국도95호선             0             0   \n4701216          107        경찰로             0             0   \n\n         maximum_speed_limit  ...  road_type  start_node_name  start_latitude  \\\n0                       60.0  ...          3            제3교래교       33.427747   \n1                       60.0  ...          0            광양사거리       33.500730   \n2                       80.0  ...          0             창고천교       33.279145   \n3                       50.0  ...          0            남양리조트       33.246081   \n4                       80.0  ...          0             애월샷시       33.462214   \n...                      ...  ...        ...              ...             ...   \n4701212                 50.0  ...          0            대림사거리       33.422145   \n4701213                 80.0  ...          3              광삼교       33.472505   \n4701214                 60.0  ...          0            고성교차로       33.447183   \n4701215                 80.0  ...          0            제6광령교       33.443596   \n4701216                 60.0  ...          0           서귀포경찰서       33.256785   \n\n         start_longitude start_turn_restricted  end_node_name  end_latitude  \\\n0             126.662612                    없음          제3교래교     33.427749   \n1             126.529107                    있음         KAL사거리     33.504811   \n2             126.368598                    없음           상창육교     33.280072   \n3             126.567204                    없음           서현주택     33.245565   \n4             126.326551                    없음           애월입구     33.462677   \n...                  ...                   ...            ...           ...   \n4701212       126.278125                    없음           금덕해운     33.420955   \n4701213       126.424368                    없음            광삼교     33.472525   \n4701214       126.912579                    없음          성산교차로     33.444121   \n4701215       126.431817                    없음         관광대학입구     33.444996   \n4701216       126.508940                    없음           시민공원     33.257130   \n\n        end_longitude end_turn_restricted  target  \n0          126.662335                  없음    52.0  \n1          126.526240                  없음    30.0  \n2          126.362147                  없음    61.0  \n3          126.566228                  없음    20.0  \n4          126.330152                  없음    38.0  \n...               ...                 ...     ...  \n4701212    126.273750                  없음    20.0  \n4701213    126.424890                  없음    65.0  \n4701214    126.912948                  없음    30.0  \n4701215    126.433332                  없음    73.0  \n4701216    126.510364                  없음    35.0  \n\n[4701217 rows x 23 columns]",
      "text/html": "<div>\n<style scoped>\n    .dataframe tbody tr th:only-of-type {\n        vertical-align: middle;\n    }\n\n    .dataframe tbody tr th {\n        vertical-align: top;\n    }\n\n    .dataframe thead th {\n        text-align: right;\n    }\n</style>\n<table border=\"1\" class=\"dataframe\">\n  <thead>\n    <tr style=\"text-align: right;\">\n      <th></th>\n      <th>id</th>\n      <th>base_date</th>\n      <th>day_of_week</th>\n      <th>base_hour</th>\n      <th>lane_count</th>\n      <th>road_rating</th>\n      <th>road_name</th>\n      <th>multi_linked</th>\n      <th>connect_code</th>\n      <th>maximum_speed_limit</th>\n      <th>...</th>\n      <th>road_type</th>\n      <th>start_node_name</th>\n      <th>start_latitude</th>\n      <th>start_longitude</th>\n      <th>start_turn_restricted</th>\n      <th>end_node_name</th>\n      <th>end_latitude</th>\n      <th>end_longitude</th>\n      <th>end_turn_restricted</th>\n      <th>target</th>\n    </tr>\n  </thead>\n  <tbody>\n    <tr>\n      <th>0</th>\n      <td>TRAIN_0000000</td>\n      <td>20220623</td>\n      <td>목</td>\n      <td>17</td>\n      <td>1</td>\n      <td>106</td>\n      <td>지방도1112호선</td>\n      <td>0</td>\n      <td>0</td>\n      <td>60.0</td>\n      <td>...</td>\n      <td>3</td>\n      <td>제3교래교</td>\n      <td>33.427747</td>\n      <td>126.662612</td>\n      <td>없음</td>\n      <td>제3교래교</td>\n      <td>33.427749</td>\n      <td>126.662335</td>\n      <td>없음</td>\n      <td>52.0</td>\n    </tr>\n    <tr>\n      <th>1</th>\n      <td>TRAIN_0000001</td>\n      <td>20220728</td>\n      <td>목</td>\n      <td>21</td>\n      <td>2</td>\n      <td>103</td>\n      <td>일반국도11호선</td>\n      <td>0</td>\n      <td>0</td>\n      <td>60.0</td>\n      <td>...</td>\n      <td>0</td>\n      <td>광양사거리</td>\n      <td>33.500730</td>\n      <td>126.529107</td>\n      <td>있음</td>\n      <td>KAL사거리</td>\n      <td>33.504811</td>\n      <td>126.526240</td>\n      <td>없음</td>\n      <td>30.0</td>\n    </tr>\n    <tr>\n      <th>2</th>\n      <td>TRAIN_0000002</td>\n      <td>20211010</td>\n      <td>일</td>\n      <td>7</td>\n      <td>2</td>\n      <td>103</td>\n      <td>일반국도16호선</td>\n      <td>0</td>\n      <td>0</td>\n      <td>80.0</td>\n      <td>...</td>\n      <td>0</td>\n      <td>창고천교</td>\n      <td>33.279145</td>\n      <td>126.368598</td>\n      <td>없음</td>\n      <td>상창육교</td>\n      <td>33.280072</td>\n      <td>126.362147</td>\n      <td>없음</td>\n      <td>61.0</td>\n    </tr>\n    <tr>\n      <th>3</th>\n      <td>TRAIN_0000003</td>\n      <td>20220311</td>\n      <td>금</td>\n      <td>13</td>\n      <td>2</td>\n      <td>107</td>\n      <td>태평로</td>\n      <td>0</td>\n      <td>0</td>\n      <td>50.0</td>\n      <td>...</td>\n      <td>0</td>\n      <td>남양리조트</td>\n      <td>33.246081</td>\n      <td>126.567204</td>\n      <td>없음</td>\n      <td>서현주택</td>\n      <td>33.245565</td>\n      <td>126.566228</td>\n      <td>없음</td>\n      <td>20.0</td>\n    </tr>\n    <tr>\n      <th>4</th>\n      <td>TRAIN_0000004</td>\n      <td>20211005</td>\n      <td>화</td>\n      <td>8</td>\n      <td>2</td>\n      <td>103</td>\n      <td>일반국도12호선</td>\n      <td>0</td>\n      <td>0</td>\n      <td>80.0</td>\n      <td>...</td>\n      <td>0</td>\n      <td>애월샷시</td>\n      <td>33.462214</td>\n      <td>126.326551</td>\n      <td>없음</td>\n      <td>애월입구</td>\n      <td>33.462677</td>\n      <td>126.330152</td>\n      <td>없음</td>\n      <td>38.0</td>\n    </tr>\n    <tr>\n      <th>...</th>\n      <td>...</td>\n      <td>...</td>\n      <td>...</td>\n      <td>...</td>\n      <td>...</td>\n      <td>...</td>\n      <td>...</td>\n      <td>...</td>\n      <td>...</td>\n      <td>...</td>\n      <td>...</td>\n      <td>...</td>\n      <td>...</td>\n      <td>...</td>\n      <td>...</td>\n      <td>...</td>\n      <td>...</td>\n      <td>...</td>\n      <td>...</td>\n      <td>...</td>\n      <td>...</td>\n    </tr>\n    <tr>\n      <th>4701212</th>\n      <td>TRAIN_4701212</td>\n      <td>20211104</td>\n      <td>목</td>\n      <td>16</td>\n      <td>1</td>\n      <td>107</td>\n      <td>-</td>\n      <td>0</td>\n      <td>0</td>\n      <td>50.0</td>\n      <td>...</td>\n      <td>0</td>\n      <td>대림사거리</td>\n      <td>33.422145</td>\n      <td>126.278125</td>\n      <td>없음</td>\n      <td>금덕해운</td>\n      <td>33.420955</td>\n      <td>126.273750</td>\n      <td>없음</td>\n      <td>20.0</td>\n    </tr>\n    <tr>\n      <th>4701213</th>\n      <td>TRAIN_4701213</td>\n      <td>20220331</td>\n      <td>목</td>\n      <td>2</td>\n      <td>2</td>\n      <td>107</td>\n      <td>-</td>\n      <td>0</td>\n      <td>0</td>\n      <td>80.0</td>\n      <td>...</td>\n      <td>3</td>\n      <td>광삼교</td>\n      <td>33.472505</td>\n      <td>126.424368</td>\n      <td>없음</td>\n      <td>광삼교</td>\n      <td>33.472525</td>\n      <td>126.424890</td>\n      <td>없음</td>\n      <td>65.0</td>\n    </tr>\n    <tr>\n      <th>4701214</th>\n      <td>TRAIN_4701214</td>\n      <td>20220613</td>\n      <td>월</td>\n      <td>22</td>\n      <td>2</td>\n      <td>103</td>\n      <td>일반국도12호선</td>\n      <td>0</td>\n      <td>0</td>\n      <td>60.0</td>\n      <td>...</td>\n      <td>0</td>\n      <td>고성교차로</td>\n      <td>33.447183</td>\n      <td>126.912579</td>\n      <td>없음</td>\n      <td>성산교차로</td>\n      <td>33.444121</td>\n      <td>126.912948</td>\n      <td>없음</td>\n      <td>30.0</td>\n    </tr>\n    <tr>\n      <th>4701215</th>\n      <td>TRAIN_4701215</td>\n      <td>20211020</td>\n      <td>수</td>\n      <td>2</td>\n      <td>2</td>\n      <td>103</td>\n      <td>일반국도95호선</td>\n      <td>0</td>\n      <td>0</td>\n      <td>80.0</td>\n      <td>...</td>\n      <td>0</td>\n      <td>제6광령교</td>\n      <td>33.443596</td>\n      <td>126.431817</td>\n      <td>없음</td>\n      <td>관광대학입구</td>\n      <td>33.444996</td>\n      <td>126.433332</td>\n      <td>없음</td>\n      <td>73.0</td>\n    </tr>\n    <tr>\n      <th>4701216</th>\n      <td>TRAIN_4701216</td>\n      <td>20211019</td>\n      <td>화</td>\n      <td>6</td>\n      <td>2</td>\n      <td>107</td>\n      <td>경찰로</td>\n      <td>0</td>\n      <td>0</td>\n      <td>60.0</td>\n      <td>...</td>\n      <td>0</td>\n      <td>서귀포경찰서</td>\n      <td>33.256785</td>\n      <td>126.508940</td>\n      <td>없음</td>\n      <td>시민공원</td>\n      <td>33.257130</td>\n      <td>126.510364</td>\n      <td>없음</td>\n      <td>35.0</td>\n    </tr>\n  </tbody>\n</table>\n<p>4701217 rows × 23 columns</p>\n</div>"
     },
     "metadata": {},
     "output_type": "display_data"
    }
   ],
   "source": [
    "display(train)"
   ]
  },
  {
   "cell_type": "code",
   "execution_count": 46,
   "outputs": [
    {
     "name": "stdout",
     "output_type": "stream",
     "text": [
      "정상 데이터셋\n"
     ]
    }
   ],
   "source": [
    "if 'road_in_use' in train.columns:\n",
    "    print('변수 제거하고 진행해야함')\n",
    "else:\n",
    "    print('정상 데이터셋')"
   ],
   "metadata": {
    "collapsed": false
   }
  },
  {
   "cell_type": "code",
   "execution_count": 47,
   "metadata": {
    "collapsed": false,
    "trusted": false
   },
   "outputs": [],
   "source": [
    "train = pd.read_parquet('./data/open/train.parquet')\n",
    "test = pd.read_parquet('./data/open/test.parquet')"
   ]
  },
  {
   "cell_type": "markdown",
   "metadata": {
    "collapsed": false
   },
   "source": [
    "# 데이터 전처리"
   ]
  },
  {
   "cell_type": "code",
   "execution_count": 48,
   "metadata": {
    "collapsed": false,
    "trusted": false
   },
   "outputs": [],
   "source": [
    "from sklearn.preprocessing import LabelEncoder"
   ]
  },
  {
   "cell_type": "code",
   "execution_count": 49,
   "metadata": {
    "collapsed": false,
    "trusted": false
   },
   "outputs": [],
   "source": [
    "str_col = ['day_of_week', 'start_turn_restricted', 'end_turn_restricted']\n",
    "\n",
    "for i in str_col:\n",
    "    le = LabelEncoder()\n",
    "    le = le.fit(train[i])\n",
    "    train[i] = le.transform(train[i])\n",
    "\n",
    "    for label in np.unique(test[i]):\n",
    "        if label not in le.classes_:\n",
    "            le.classes_ = np.append(le.classes_, label)\n",
    "    test[i] = le.transform(test[i])"
   ]
  },
  {
   "cell_type": "code",
   "execution_count": 50,
   "metadata": {
    "collapsed": false,
    "trusted": false
   },
   "outputs": [
    {
     "data": {
      "text/plain": "         day_of_week  start_turn_restricted  end_turn_restricted\n0                  1                      0                    0\n1                  1                      1                    0\n2                  4                      0                    0\n3                  0                      0                    0\n4                  6                      0                    0\n...              ...                    ...                  ...\n4701212            1                      0                    0\n4701213            1                      0                    0\n4701214            3                      0                    0\n4701215            2                      0                    0\n4701216            6                      0                    0\n\n[4701217 rows x 3 columns]",
      "text/html": "<div>\n<style scoped>\n    .dataframe tbody tr th:only-of-type {\n        vertical-align: middle;\n    }\n\n    .dataframe tbody tr th {\n        vertical-align: top;\n    }\n\n    .dataframe thead th {\n        text-align: right;\n    }\n</style>\n<table border=\"1\" class=\"dataframe\">\n  <thead>\n    <tr style=\"text-align: right;\">\n      <th></th>\n      <th>day_of_week</th>\n      <th>start_turn_restricted</th>\n      <th>end_turn_restricted</th>\n    </tr>\n  </thead>\n  <tbody>\n    <tr>\n      <th>0</th>\n      <td>1</td>\n      <td>0</td>\n      <td>0</td>\n    </tr>\n    <tr>\n      <th>1</th>\n      <td>1</td>\n      <td>1</td>\n      <td>0</td>\n    </tr>\n    <tr>\n      <th>2</th>\n      <td>4</td>\n      <td>0</td>\n      <td>0</td>\n    </tr>\n    <tr>\n      <th>3</th>\n      <td>0</td>\n      <td>0</td>\n      <td>0</td>\n    </tr>\n    <tr>\n      <th>4</th>\n      <td>6</td>\n      <td>0</td>\n      <td>0</td>\n    </tr>\n    <tr>\n      <th>...</th>\n      <td>...</td>\n      <td>...</td>\n      <td>...</td>\n    </tr>\n    <tr>\n      <th>4701212</th>\n      <td>1</td>\n      <td>0</td>\n      <td>0</td>\n    </tr>\n    <tr>\n      <th>4701213</th>\n      <td>1</td>\n      <td>0</td>\n      <td>0</td>\n    </tr>\n    <tr>\n      <th>4701214</th>\n      <td>3</td>\n      <td>0</td>\n      <td>0</td>\n    </tr>\n    <tr>\n      <th>4701215</th>\n      <td>2</td>\n      <td>0</td>\n      <td>0</td>\n    </tr>\n    <tr>\n      <th>4701216</th>\n      <td>6</td>\n      <td>0</td>\n      <td>0</td>\n    </tr>\n  </tbody>\n</table>\n<p>4701217 rows × 3 columns</p>\n</div>"
     },
     "execution_count": 50,
     "metadata": {},
     "output_type": "execute_result"
    }
   ],
   "source": [
    "train[str_col]"
   ]
  },
  {
   "cell_type": "code",
   "execution_count": 51,
   "outputs": [
    {
     "name": "stdout",
     "output_type": "stream",
     "text": [
      "(4701217, 16)\n",
      "(4701217,)\n",
      "(291241, 16)\n"
     ]
    }
   ],
   "source": [
    "y_train = train['target']\n",
    "\n",
    "X_train = train.drop(['id','base_date', 'target','road_name', 'start_node_name', 'end_node_name','vehicle_restricted'], axis=1)\n",
    "\n",
    "test = test.drop(['id','base_date', 'road_name', 'start_node_name', 'end_node_name','vehicle_restricted'], axis=1)\n",
    "\n",
    "print(X_train.shape)\n",
    "print(y_train.shape)\n",
    "print(test.shape)"
   ],
   "metadata": {
    "collapsed": false
   }
  },
  {
   "cell_type": "code",
   "execution_count": 52,
   "outputs": [],
   "source": [
    "import lightgbm as lgb"
   ],
   "metadata": {
    "collapsed": false
   }
  },
  {
   "cell_type": "code",
   "execution_count": 53,
   "outputs": [],
   "source": [
    "LR = lgb.LGBMRegressor(random_state=42).fit(X_train, y_train)"
   ],
   "metadata": {
    "collapsed": false
   }
  },
  {
   "cell_type": "code",
   "execution_count": 54,
   "outputs": [],
   "source": [
    "pred = LR.predict(test)"
   ],
   "metadata": {
    "collapsed": false
   }
  },
  {
   "cell_type": "code",
   "execution_count": 55,
   "outputs": [],
   "source": [
    "sample_submission = pd.read_csv('./data/open/sample_submission.csv')"
   ],
   "metadata": {
    "collapsed": false
   }
  },
  {
   "cell_type": "code",
   "execution_count": 56,
   "outputs": [],
   "source": [
    "sample_submission['target'] = pred\n",
    "sample_submission.to_csv(\"./data/open/submit.csv\", index=False)"
   ],
   "metadata": {
    "collapsed": false
   }
  },
  {
   "cell_type": "code",
   "execution_count": 57,
   "outputs": [
    {
     "data": {
      "text/plain": "                 id     target\n0       TEST_000000  27.298710\n1       TEST_000001  43.949243\n2       TEST_000002  60.552621\n3       TEST_000003  36.499322\n4       TEST_000004  37.510570\n...             ...        ...\n291236  TEST_291236  45.902276\n291237  TEST_291237  52.604831\n291238  TEST_291238  21.964371\n291239  TEST_291239  25.402628\n291240  TEST_291240  41.406265\n\n[291241 rows x 2 columns]",
      "text/html": "<div>\n<style scoped>\n    .dataframe tbody tr th:only-of-type {\n        vertical-align: middle;\n    }\n\n    .dataframe tbody tr th {\n        vertical-align: top;\n    }\n\n    .dataframe thead th {\n        text-align: right;\n    }\n</style>\n<table border=\"1\" class=\"dataframe\">\n  <thead>\n    <tr style=\"text-align: right;\">\n      <th></th>\n      <th>id</th>\n      <th>target</th>\n    </tr>\n  </thead>\n  <tbody>\n    <tr>\n      <th>0</th>\n      <td>TEST_000000</td>\n      <td>27.298710</td>\n    </tr>\n    <tr>\n      <th>1</th>\n      <td>TEST_000001</td>\n      <td>43.949243</td>\n    </tr>\n    <tr>\n      <th>2</th>\n      <td>TEST_000002</td>\n      <td>60.552621</td>\n    </tr>\n    <tr>\n      <th>3</th>\n      <td>TEST_000003</td>\n      <td>36.499322</td>\n    </tr>\n    <tr>\n      <th>4</th>\n      <td>TEST_000004</td>\n      <td>37.510570</td>\n    </tr>\n    <tr>\n      <th>...</th>\n      <td>...</td>\n      <td>...</td>\n    </tr>\n    <tr>\n      <th>291236</th>\n      <td>TEST_291236</td>\n      <td>45.902276</td>\n    </tr>\n    <tr>\n      <th>291237</th>\n      <td>TEST_291237</td>\n      <td>52.604831</td>\n    </tr>\n    <tr>\n      <th>291238</th>\n      <td>TEST_291238</td>\n      <td>21.964371</td>\n    </tr>\n    <tr>\n      <th>291239</th>\n      <td>TEST_291239</td>\n      <td>25.402628</td>\n    </tr>\n    <tr>\n      <th>291240</th>\n      <td>TEST_291240</td>\n      <td>41.406265</td>\n    </tr>\n  </tbody>\n</table>\n<p>291241 rows × 2 columns</p>\n</div>"
     },
     "execution_count": 57,
     "metadata": {},
     "output_type": "execute_result"
    }
   ],
   "source": [
    "sample_submission"
   ],
   "metadata": {
    "collapsed": false
   }
  },
  {
   "cell_type": "code",
   "execution_count": 57,
   "outputs": [],
   "source": [],
   "metadata": {
    "collapsed": false
   }
  }
 ],
 "metadata": {
  "kernelspec": {
   "name": "conda-env-tf_mini-py",
   "language": "python",
   "display_name": "Python [conda env:tf_mini] *"
  },
  "language_info": {
   "codemirror_mode": {
    "name": "ipython",
    "version": 2
   },
   "file_extension": ".py",
   "mimetype": "text/x-python",
   "name": "python",
   "nbconvert_exporter": "python",
   "pygments_lexer": "ipython2",
   "version": "2.7.6"
  }
 },
 "nbformat": 4,
 "nbformat_minor": 0
}
