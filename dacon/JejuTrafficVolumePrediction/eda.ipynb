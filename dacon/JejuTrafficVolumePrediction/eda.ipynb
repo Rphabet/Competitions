{
 "cells": [
  {
   "cell_type": "markdown",
   "source": [
    "# EDA"
   ],
   "metadata": {
    "collapsed": false
   }
  },
  {
   "cell_type": "markdown",
   "source": [
    "모델링 전 데이터에 대해 알아보자"
   ],
   "metadata": {
    "collapsed": false
   }
  },
  {
   "cell_type": "code",
   "execution_count": 7,
   "outputs": [],
   "source": [
    "import pandas as pd\n",
    "import numpy as np\n",
    "import matplotlib.pyplot as plt\n",
    "import seaborn as sns\n",
    "import os\n",
    "import folium\n",
    "plt.rc(\"font\", family=\"Malgun Gothic\")"
   ],
   "metadata": {
    "collapsed": false
   }
  },
  {
   "cell_type": "code",
   "execution_count": 3,
   "outputs": [],
   "source": [
    "DATA_DIR = './data/open/'\n",
    "DATA_INFO = 'data_info.csv'\n",
    "TRAIN = 'train.parquet'\n",
    "TEST = 'test.parquet'"
   ],
   "metadata": {
    "collapsed": false
   }
  },
  {
   "cell_type": "code",
   "execution_count": 5,
   "outputs": [
    {
     "data": {
      "text/plain": "                      변수명           변수 설명\n0                      id             아이디\n1               base_date              날짜\n2             day_of_week              요일\n3               base_hour             시간대\n4             road_in_use          도로사용여부\n5              lane_count             차로수\n6             road_rating            도로등급\n7            multi_linked         중용구간 여부\n8            connect_code          연결로 코드\n9     maximum_speed_limit          최고속도제한\n10      weight_restricted          통과제한하중\n11      height_restricted          통과제한높이\n12              road_type            도로유형\n13         start_latitude        시작지점의 위도\n14        start_longitude        시작지점의 경도\n15  start_turn_restricted  시작 지점의 회전제한 유무\n16           end_latitude        도착지점의 위도\n17          end_longitude        도착지점의 경도\n18    end_turn_restricted   도작지점의 회전제한 유무\n19              road_name             도로명\n20        start_node_name           시작지점명\n21          end_node_name           도착지점명\n22     vehicle_restricted          통과제한차량\n23                 target        평균속도(km)",
      "text/html": "<div>\n<style scoped>\n    .dataframe tbody tr th:only-of-type {\n        vertical-align: middle;\n    }\n\n    .dataframe tbody tr th {\n        vertical-align: top;\n    }\n\n    .dataframe thead th {\n        text-align: right;\n    }\n</style>\n<table border=\"1\" class=\"dataframe\">\n  <thead>\n    <tr style=\"text-align: right;\">\n      <th></th>\n      <th>변수명</th>\n      <th>변수 설명</th>\n    </tr>\n  </thead>\n  <tbody>\n    <tr>\n      <th>0</th>\n      <td>id</td>\n      <td>아이디</td>\n    </tr>\n    <tr>\n      <th>1</th>\n      <td>base_date</td>\n      <td>날짜</td>\n    </tr>\n    <tr>\n      <th>2</th>\n      <td>day_of_week</td>\n      <td>요일</td>\n    </tr>\n    <tr>\n      <th>3</th>\n      <td>base_hour</td>\n      <td>시간대</td>\n    </tr>\n    <tr>\n      <th>4</th>\n      <td>road_in_use</td>\n      <td>도로사용여부</td>\n    </tr>\n    <tr>\n      <th>5</th>\n      <td>lane_count</td>\n      <td>차로수</td>\n    </tr>\n    <tr>\n      <th>6</th>\n      <td>road_rating</td>\n      <td>도로등급</td>\n    </tr>\n    <tr>\n      <th>7</th>\n      <td>multi_linked</td>\n      <td>중용구간 여부</td>\n    </tr>\n    <tr>\n      <th>8</th>\n      <td>connect_code</td>\n      <td>연결로 코드</td>\n    </tr>\n    <tr>\n      <th>9</th>\n      <td>maximum_speed_limit</td>\n      <td>최고속도제한</td>\n    </tr>\n    <tr>\n      <th>10</th>\n      <td>weight_restricted</td>\n      <td>통과제한하중</td>\n    </tr>\n    <tr>\n      <th>11</th>\n      <td>height_restricted</td>\n      <td>통과제한높이</td>\n    </tr>\n    <tr>\n      <th>12</th>\n      <td>road_type</td>\n      <td>도로유형</td>\n    </tr>\n    <tr>\n      <th>13</th>\n      <td>start_latitude</td>\n      <td>시작지점의 위도</td>\n    </tr>\n    <tr>\n      <th>14</th>\n      <td>start_longitude</td>\n      <td>시작지점의 경도</td>\n    </tr>\n    <tr>\n      <th>15</th>\n      <td>start_turn_restricted</td>\n      <td>시작 지점의 회전제한 유무</td>\n    </tr>\n    <tr>\n      <th>16</th>\n      <td>end_latitude</td>\n      <td>도착지점의 위도</td>\n    </tr>\n    <tr>\n      <th>17</th>\n      <td>end_longitude</td>\n      <td>도착지점의 경도</td>\n    </tr>\n    <tr>\n      <th>18</th>\n      <td>end_turn_restricted</td>\n      <td>도작지점의 회전제한 유무</td>\n    </tr>\n    <tr>\n      <th>19</th>\n      <td>road_name</td>\n      <td>도로명</td>\n    </tr>\n    <tr>\n      <th>20</th>\n      <td>start_node_name</td>\n      <td>시작지점명</td>\n    </tr>\n    <tr>\n      <th>21</th>\n      <td>end_node_name</td>\n      <td>도착지점명</td>\n    </tr>\n    <tr>\n      <th>22</th>\n      <td>vehicle_restricted</td>\n      <td>통과제한차량</td>\n    </tr>\n    <tr>\n      <th>23</th>\n      <td>target</td>\n      <td>평균속도(km)</td>\n    </tr>\n  </tbody>\n</table>\n</div>"
     },
     "execution_count": 5,
     "metadata": {},
     "output_type": "execute_result"
    }
   ],
   "source": [
    "pd.read_csv(os.path.join(DATA_DIR, DATA_INFO))"
   ],
   "metadata": {
    "collapsed": false
   }
  },
  {
   "cell_type": "code",
   "execution_count": 4,
   "outputs": [],
   "source": [
    "train = pd.read_parquet(os.path.join(DATA_DIR, TRAIN))\n",
    "test = pd.read_parquet(os.path.join(DATA_DIR, TEST))"
   ],
   "metadata": {
    "collapsed": false
   }
  },
  {
   "cell_type": "code",
   "execution_count": null,
   "outputs": [],
   "source": [],
   "metadata": {
    "collapsed": false
   }
  }
 ],
 "metadata": {
  "kernelspec": {
   "name": "python3",
   "language": "python",
   "display_name": "Python 3 (ipykernel)"
  },
  "language_info": {
   "codemirror_mode": {
    "name": "ipython",
    "version": 2
   },
   "file_extension": ".py",
   "mimetype": "text/x-python",
   "name": "python",
   "nbconvert_exporter": "python",
   "pygments_lexer": "ipython2",
   "version": "2.7.6"
  }
 },
 "nbformat": 4,
 "nbformat_minor": 0
}
